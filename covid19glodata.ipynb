{
  "nbformat": 4,
  "nbformat_minor": 0,
  "metadata": {
    "colab": {
      "name": "Copy of covid19glodata.ipynb",
      "provenance": [],
      "collapsed_sections": []
    },
    "kernelspec": {
      "name": "python3",
      "display_name": "Python 3"
    }
  },
  "cells": [
    {
      "cell_type": "code",
      "metadata": {
        "id": "SsHLPYMtC-x3",
        "colab_type": "code",
        "colab": {}
      },
      "source": [
        ""
      ],
      "execution_count": 0,
      "outputs": []
    },
    {
      "cell_type": "markdown",
      "metadata": {
        "id": "mrmxG_JeDUIZ",
        "colab_type": "text"
      },
      "source": [
        "# author Giovambattista Vieri\n",
        "# (c) 2020 all rights reserverd\n",
        "# license: GPL V 2.0 \n",
        "# \n"
      ]
    },
    {
      "cell_type": "code",
      "metadata": {
        "id": "T8dNMIZ2DXvX",
        "colab_type": "code",
        "colab": {}
      },
      "source": [
        "!pip install numpy\n",
        "!pip install beautifultable\n",
        "!pip install matplotlib\n",
        "!pip install GitPython"
      ],
      "execution_count": 0,
      "outputs": []
    },
    {
      "cell_type": "code",
      "metadata": {
        "id": "vwrMVgfeDqtT",
        "colab_type": "code",
        "colab": {}
      },
      "source": [
        "from git import Repo\n",
        "from os import listdir \n",
        "import csv\n",
        "import os\n",
        "import sys\n",
        "import shutil\n",
        "import argparse \n",
        "import numpy as np\n",
        "from beautifultable import BeautifulTable\n",
        "from pandas.plotting import register_matplotlib_converters\n",
        "\n",
        "import matplotlib.pyplot as plt\n",
        "import matplotlib.dates as mdates\n",
        "import datetime as dt\n",
        "from matplotlib.ticker import MaxNLocator\n",
        "from IPython.display import Javascript \n",
        "display(Javascript("google.colab.output.resizeIframeToContent()")) \n",
        "\n"
      ],
      "execution_count": 0,
      "outputs": []
    },
    {
      "cell_type": "code",
      "metadata": {
        "id": "pNdGj9OED6Gy",
        "colab_type": "code",
        "colab": {}
      },
      "source": [
        "register_matplotlib_converters()\n",
        "destdir=\"covid19\"\n",
        "searchdir=destdir+\"/csse_covid_19_data/csse_covid_19_daily_reports\"\n",
        "precconfirmed=precrecovered=precdeath=0 \n"
      ],
      "execution_count": 0,
      "outputs": []
    },
    {
      "cell_type": "code",
      "metadata": {
        "id": "Qt8_pGZgNSH7",
        "colab_type": "code",
        "colab": {}
      },
      "source": [
        "def firstfilelayout(row):\n",
        "# it will receive a row in argument: with first line (header) skipped. \n",
        "    confirmed=deaths=recovered=0\n",
        "    if len(row[3])<1: row[3]=0\n",
        "    if len(row[4])<1: row[4]=0\n",
        "    if len(row[5])<1: row[5]=0\n",
        "    confirmed +=int(row[3])\n",
        "    deaths    +=int(row[4])\n",
        "    recovered +=int(row[5])\n",
        "    return(confirmed,deaths,recovered)\n",
        "\n",
        "def secondfilelayout(row):\n",
        "# it will receive a row in argument: with first line (header) skipped. \n",
        "    confirmed=deaths=recovered=0\n",
        "    if len(row[7])<1: row[7]=0\n",
        "    if len(row[8])<1: row[8]=0\n",
        "    if len(row[9])<1: row[9]=0\n",
        "    confirmed +=int(row[7])\n",
        "    deaths    +=int(row[8])\n",
        "    recovered +=int(row[9])\n",
        "    return(confirmed,deaths,recovered)\n",
        "\n"
      ],
      "execution_count": 0,
      "outputs": []
    },
    {
      "cell_type": "code",
      "metadata": {
        "id": "kun8donKEEQr",
        "colab_type": "code",
        "colab": {}
      },
      "source": [
        "def processafile(filename):\n",
        "    completefile=searchdir+\"/\"+filename\n",
        "    confirmed=deaths=recovered=0\n",
        "    with open(completefile,'r') as fi:\n",
        "        reader=csv.reader(fi)\n",
        "        headers=next(reader)\n",
        "        for row in reader:\n",
        "            if 'FIPS' in headers[0]:\n",
        "                res=secondfilelayout(row)\n",
        "            else:\n",
        "                res=firstfilelayout(row)\n",
        "            confirmed +=int(res[0])\n",
        "            deaths    +=int(res[1])\n",
        "            recovered +=int(res[2])\n",
        "\n",
        "    return(confirmed,deaths,recovered)\n"
      ],
      "execution_count": 0,
      "outputs": []
    },
    {
      "cell_type": "code",
      "metadata": {
        "id": "BZWRFk2iELa0",
        "colab_type": "code",
        "colab": {}
      },
      "source": [
        "ratio     =True\n",
        "save      =False\n",
        "chart     =True\n",
        "grid      =True\n",
        "nicetable =True\n",
        "logyscale =False\n"
      ],
      "execution_count": 0,
      "outputs": []
    },
    {
      "cell_type": "code",
      "metadata": {
        "id": "HuwdGSHREhWM",
        "colab_type": "code",
        "colab": {}
      },
      "source": [
        "if os.path.isdir(destdir):\n",
        "  shutil.rmtree(destdir)\n",
        "\n",
        "os.mkdir(destdir)\n",
        "\n",
        "Repo.clone_from(\"https://github.com/CSSEGISandData/COVID-19\",destdir)\n",
        "\n",
        "ext='csv' \n",
        "\n",
        "filenames=listdir(searchdir)\n",
        "filenames.sort()\n",
        "orig_stdout=sys.stdout\n",
        "\n",
        "if nicetable: \n",
        "  table=BeautifulTable(max_width=132)\n",
        "  if ratio:\n",
        "    header=[\"date\",\"Confirmed\",\"Death\",\"Recovered\",\"d Confirmed\",\"d Death\",\"d Recovered\",\"Death/Conf\", \"Recovered/Conf\"]\n",
        "  else:\n",
        "    header=[\"date\",\"Confirmed\",\"Death\",\"Recovered\",\"d Confirmed\",\"d Death\",\"d Recovered\"]\n",
        "  table.column_headers=header\n",
        "  if save:\n",
        "    fo=open('out.csv','w')\n",
        "    sys.stdout=fo\n"
      ],
      "execution_count": 0,
      "outputs": []
    },
    {
      "cell_type": "code",
      "metadata": {
        "id": "GH2MMvJKFfyL",
        "colab_type": "code",
        "colab": {}
      },
      "source": [
        "content=[]\n",
        "for filename in filenames:\n",
        "  if filename.endswith(ext):\n",
        "    r=list(processafile(filename) )\n",
        "    tablerow=[]\n",
        "    deltaconfirmed=r[0]-precconfirmed\n",
        "    deltadeath    =r[1]-precdeath\n",
        "    deltarecovered=r[2]-precrecovered\n",
        "    precconfirmed =r[0]\n",
        "    precdeath     =r[1]\n",
        "    precrecovered =r[2]\n",
        "    if r[1] >0:\n",
        "      r.append(float(r[1]/r[0]))\n",
        "    else:\n",
        "      r.append('NaN')\n",
        "    if r[2] >0:\n",
        "      r.append(float(r[2]/r[0]))\n",
        "    else:\n",
        "      r.append('NaN')\n",
        "\n",
        "    if nicetable: \n",
        "      if ratio:\n",
        "        tablerow=[filename[:-4],r[0],r[1],r[2],deltaconfirmed,deltadeath,deltarecovered,r[3],r[4]] \n",
        "      else: \n",
        "        tablerow=[filename[:-4],r[0],r[1],r[2],deltaconfirmed,deltadeath,deltarecovered] \n",
        "      table.append_row(tablerow)\n",
        "    else:\n",
        "      if ratio:\n",
        "        print(\"{},{},{},{},{},{},{:.3f},{:.3f}\".format(filename[:-4],r[0],r[1],r[2],deltaconfirmed,deltadeath,deltarecovered,r[3],r[4]) )\n",
        "      else: \n",
        "        print(\"{},{},{},{},{},{}\".format(filename[:-4],r[0],r[1],r[2],deltaconfirmed,deltadeath,deltarecovered) )\n",
        "    content.append([filename[:-4],r[0],r[1],r[2],deltaconfirmed,deltadeath,deltarecovered])\n",
        "    \n",
        "\n",
        "\n",
        "\n",
        "\n"
      ],
      "execution_count": 0,
      "outputs": []
    },
    {
      "cell_type": "code",
      "metadata": {
        "id": "FBU6let6Gq9Q",
        "colab_type": "code",
        "colab": {}
      },
      "source": [
        "\n",
        "if nicetable:\n",
        "  print(table)\n",
        "\n",
        "if save:\n",
        "  sys.stdout=orig_stdout\n",
        "  fo.close()\n",
        "\n",
        "\n",
        "if chart:\n",
        " # plt.gca().xaxis_date()\n",
        "  \n",
        "  dummy=np.array(content)\n",
        "  d=dummy[:,0]\n",
        "  days=[dt.datetime.strptime(d,'%m-%d-%Y').date() for d in d]\n",
        "  datefile=dt.datetime.today().strftime('%Y%m%d')\n",
        "    ###### make chart of confirmed\n",
        "  \n",
        "  plt.figure()\n",
        "  plt.ylabel('Confirmed') \n",
        "  plt.title('Confirmed') \n",
        "  confirmed=np.array(dummy[:,1],dtype=int)\n",
        "  if logyscale:\n",
        "    plt.yscale('log')\n",
        "  plt.plot(days,confirmed,'r')\n",
        "\n",
        "  plt.gca().xaxis.set_major_formatter(mdates.DateFormatter('%d-%m-%Y'))\n",
        "  plt.gca().xaxis.set_major_locator( MaxNLocator(nbins = 10) )\n",
        "  plt.gca().yaxis.set_major_locator( MaxNLocator(nbins = 10) )\n",
        "  plt.gcf().autofmt_xdate()\n",
        "  if grid:\n",
        "    plt.grid()\n",
        "  plt.savefig('Confirmed'+datefile)\n",
        "  plt.show()\n",
        "\n",
        "    ###### make chart of Deaths\n",
        "  death=np.array(dummy[:,2],dtype=int)\n",
        "  plt.figure()\n",
        "  plt.ylabel('Death') \n",
        "  plt.title('Death') \n",
        "  if logyscale:\n",
        "    plt.yscale('log')\n",
        "  plt.gca().xaxis.set_major_formatter(mdates.DateFormatter('%d-%m-%Y'))\n",
        "  plt.plot(days,death,'black')\n",
        "  plt.gca().xaxis.set_major_locator( MaxNLocator(nbins = 10) )\n",
        "  plt.gca().yaxis.set_major_locator( MaxNLocator(nbins = 10) )\n",
        "  plt.gcf().autofmt_xdate()\n",
        "  if grid:\n",
        "    plt.grid()\n",
        "  plt.savefig('Death'+datefile)\n",
        "#        plt.show()\n",
        "\n",
        "\n",
        "    ###### make chart of Recoverred\n",
        "  recovered=np.array(dummy[:,3],dtype=int)\n",
        "  plt.figure()\n",
        "  plt.gca().xaxis.set_major_formatter(mdates.DateFormatter('%d-%m-%Y'))\n",
        "  plt.ylabel('Recovered') \n",
        "  if logyscale:\n",
        "    plt.yscale('log')\n",
        "  plt.plot(days,recovered,'g')\n",
        "  plt.gca().xaxis.set_major_locator( MaxNLocator(nbins = 10) )\n",
        "  plt.gca().yaxis.set_major_locator( MaxNLocator(nbins = 10) )\n",
        "  if grid:\n",
        "    plt.grid()\n",
        "  plt.gcf().autofmt_xdate()\n",
        "  plt.savefig('Recovered'+datefile)\n",
        "#        plt.show()\n",
        "    ###### make chart of both Confirmed and Recoverred\n",
        "  plt.figure()\n",
        "  plt.gca().xaxis.set_major_formatter(mdates.DateFormatter('%d-%m-%Y'))\n",
        "  plt.title('Recovered and Confirmed')\n",
        "  plt.ylabel('Recovered') \n",
        "  if logyscale:\n",
        "    plt.yscale('log')\n",
        "  plt.plot(days,confirmed,'r',label='Confirmed')\n",
        "  plt.plot(days,recovered,'g',label='Recovered')\n",
        "  plt.gca().xaxis.set_major_locator( MaxNLocator(nbins = 10) )\n",
        "  plt.gca().yaxis.set_major_locator( MaxNLocator(nbins = 10) )\n",
        "  plt.legend() \n",
        "  if grid:\n",
        "    plt.grid()\n",
        "  plt.gcf().autofmt_xdate()\n",
        "  plt.savefig('Recovered'+datefile)\n",
        "#        plt.show()\n"
      ],
      "execution_count": 0,
      "outputs": []
    }
  ]
}
