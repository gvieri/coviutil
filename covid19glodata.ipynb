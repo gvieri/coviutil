{
  "nbformat": 4,
  "nbformat_minor": 0,
  "metadata": {
    "colab": {
      "name": "Copy of covid19glodata.ipynb",
      "provenance": [],
      "collapsed_sections": []
    },
    "kernelspec": {
      "name": "python3",
      "display_name": "Python 3"
    }
  },
  "cells": [
    {
      "cell_type": "code",
      "metadata": {
        "id": "SsHLPYMtC-x3",
        "colab_type": "code",
        "colab": {}
      },
      "source": [
        ""
      ],
      "execution_count": 0,
      "outputs": []
    },
    {
      "cell_type": "markdown",
      "metadata": {
        "id": "mrmxG_JeDUIZ",
        "colab_type": "text"
      },
      "source": [
        "# author Giovambattista Vieri\n",
        "# (c) 2020 all rights reserverd\n",
        "# license: GPL V 2.0 \n",
        "# \n"
      ]
    },
    {
      "cell_type": "code",
      "metadata": {
        "id": "T8dNMIZ2DXvX",
        "colab_type": "code",
        "outputId": "1d2de63b-781b-4bd3-e514-b896d9af94f4",
        "colab": {
          "base_uri": "https://localhost:8080/",
          "height": 238
        }
      },
      "source": [
        "!pip install numpy==1.18.1\n",
        "!pip install beautifultable==0.8.0\n",
        "!pip install matplotlib\n",
        "!pip install GitPython==3.1.0\n"
      ],
      "execution_count": 1,
      "outputs": [
        {
          "output_type": "stream",
          "text": [
            "Requirement already satisfied: numpy==1.18.1 in /usr/local/lib/python3.6/dist-packages (1.18.1)\n",
            "Requirement already satisfied: beautifultable==0.8.0 in /usr/local/lib/python3.6/dist-packages (0.8.0)\n",
            "Requirement already satisfied: matplotlib in /usr/local/lib/python3.6/dist-packages (3.2.1)\n",
            "Requirement already satisfied: cycler>=0.10 in /usr/local/lib/python3.6/dist-packages (from matplotlib) (0.10.0)\n",
            "Requirement already satisfied: python-dateutil>=2.1 in /usr/local/lib/python3.6/dist-packages (from matplotlib) (2.8.1)\n",
            "Requirement already satisfied: numpy>=1.11 in /usr/local/lib/python3.6/dist-packages (from matplotlib) (1.18.1)\n",
            "Requirement already satisfied: pyparsing!=2.0.4,!=2.1.2,!=2.1.6,>=2.0.1 in /usr/local/lib/python3.6/dist-packages (from matplotlib) (2.4.6)\n",
            "Requirement already satisfied: kiwisolver>=1.0.1 in /usr/local/lib/python3.6/dist-packages (from matplotlib) (1.1.0)\n",
            "Requirement already satisfied: six in /usr/local/lib/python3.6/dist-packages (from cycler>=0.10->matplotlib) (1.12.0)\n",
            "Requirement already satisfied: setuptools in /usr/local/lib/python3.6/dist-packages (from kiwisolver>=1.0.1->matplotlib) (46.0.0)\n",
            "Requirement already satisfied: GitPython==3.1.0 in /usr/local/lib/python3.6/dist-packages (3.1.0)\n",
            "Requirement already satisfied: gitdb<5,>=4.0.1 in /usr/local/lib/python3.6/dist-packages (from GitPython==3.1.0) (4.0.2)\n",
            "Requirement already satisfied: smmap<4,>=3.0.1 in /usr/local/lib/python3.6/dist-packages (from gitdb<5,>=4.0.1->GitPython==3.1.0) (3.0.1)\n"
          ],
          "name": "stdout"
        }
      ]
    },
    {
      "cell_type": "code",
      "metadata": {
        "id": "vwrMVgfeDqtT",
        "colab_type": "code",
        "colab": {}
      },
      "source": [
        "from git import Repo\n",
        "from os import listdir \n",
        "import csv\n",
        "import os\n",
        "import sys\n",
        "import shutil\n",
        "import argparse \n",
        "import numpy as np\n",
        "from beautifultable import BeautifulTable\n",
        "from pandas.plotting import register_matplotlib_converters\n",
        "\n",
        "import matplotlib.pyplot as plt\n",
        "import matplotlib.dates as mdates\n",
        "import datetime as dt\n",
        "from matplotlib.ticker import MaxNLocator\n",
        "\n"
      ],
      "execution_count": 0,
      "outputs": []
    },
    {
      "cell_type": "code",
      "metadata": {
        "id": "pNdGj9OED6Gy",
        "colab_type": "code",
        "colab": {}
      },
      "source": [
        "register_matplotlib_converters()\n",
        "destdir=\"covid19\"\n",
        "searchdir=destdir+\"/csse_covid_19_data/csse_covid_19_daily_reports\"\n"
      ],
      "execution_count": 0,
      "outputs": []
    },
    {
      "cell_type": "code",
      "metadata": {
        "id": "Qt8_pGZgNSH7",
        "colab_type": "code",
        "colab": {}
      },
      "source": [
        "def firstfilelayout(row):\n",
        "# it will receive a row in argument: with first line (header) skipped. \n",
        "    confirmed=deaths=recovered=0\n",
        "    if len(row[3])<1: row[3]=0\n",
        "    if len(row[4])<1: row[4]=0\n",
        "    if len(row[5])<1: row[5]=0\n",
        "    confirmed +=int(row[3])\n",
        "    deaths    +=int(row[4])\n",
        "    recovered +=int(row[5])\n",
        "    return(confirmed,deaths,recovered)\n",
        "\n",
        "def secondfilelayout(row):\n",
        "# it will receive a row in argument: with first line (header) skipped. \n",
        "    confirmed=deaths=recovered=0\n",
        "    if len(row[7])<1: row[7]=0\n",
        "    if len(row[8])<1: row[8]=0\n",
        "    if len(row[9])<1: row[9]=0\n",
        "    confirmed +=int(row[7])\n",
        "    deaths    +=int(row[8])\n",
        "    recovered +=int(row[9])\n",
        "    return(confirmed,deaths,recovered)\n",
        "\n"
      ],
      "execution_count": 0,
      "outputs": []
    },
    {
      "cell_type": "code",
      "metadata": {
        "id": "kun8donKEEQr",
        "colab_type": "code",
        "colab": {}
      },
      "source": [
        "def processafile(filename):\n",
        "    completefile=searchdir+\"/\"+filename\n",
        "    confirmed=deaths=recovered=0\n",
        "    with open(completefile,'r') as fi:\n",
        "        reader=csv.reader(fi)\n",
        "        headers=next(reader)\n",
        "        for row in reader:\n",
        "            if 'FIPS' in headers[0]:\n",
        "                res=secondfilelayout(row)\n",
        "            else:\n",
        "                res=firstfilelayout(row)\n",
        "            confirmed +=int(res[0])\n",
        "            deaths    +=int(res[1])\n",
        "            recovered +=int(res[2])\n",
        "\n",
        "    return(confirmed,deaths,recovered)\n"
      ],
      "execution_count": 0,
      "outputs": []
    },
    {
      "cell_type": "code",
      "metadata": {
        "id": "BZWRFk2iELa0",
        "colab_type": "code",
        "colab": {}
      },
      "source": [
        "ratio     =True\n",
        "save      =False\n",
        "chart     =True\n",
        "grid      =True\n",
        "nicetable =True\n",
        "logyscale =True\n"
      ],
      "execution_count": 0,
      "outputs": []
    },
    {
      "cell_type": "code",
      "metadata": {
        "id": "HuwdGSHREhWM",
        "colab_type": "code",
        "colab": {}
      },
      "source": [
        "if os.path.isdir(destdir):\n",
        "  shutil.rmtree(destdir)\n",
        "\n",
        "os.mkdir(destdir)\n",
        "\n",
        "Repo.clone_from(\"https://github.com/CSSEGISandData/COVID-19\",destdir)\n",
        "\n",
        "ext='csv' \n",
        "\n",
        "filenames=listdir(searchdir)\n",
        "filenames.sort()\n",
        "orig_stdout=sys.stdout\n",
        "\n",
        "if nicetable: \n",
        "  table=BeautifulTable()\n",
        "  if ratio:\n",
        "    header=[\"date\",\"Confirmed\",\"Death\",\"Recovered\",\"Death/Conf\", \"Recovered/Conf\"]\n",
        "  else:\n",
        "    header=[\"date\",\"Confirmed\",\"Death\",\"Recovered\"]\n",
        "  table.column_headers=header\n",
        "  if save:\n",
        "    fo=open('out.csv','w')\n",
        "    sys.stdout=fo\n"
      ],
      "execution_count": 0,
      "outputs": []
    },
    {
      "cell_type": "code",
      "metadata": {
        "id": "GH2MMvJKFfyL",
        "colab_type": "code",
        "outputId": "de5f3735-f78d-4e70-bf11-c830bc8a3c70",
        "colab": {
          "base_uri": "https://localhost:8080/",
          "height": 1000
        }
      },
      "source": [
        "content=[]\n",
        "for filename in filenames:\n",
        "  if filename.endswith(ext):\n",
        "    r=list(processafile(filename) )\n",
        "    tablerow=[]\n",
        "    if r[1] >0:\n",
        "      r.append(float(r[1]/r[0]))\n",
        "    else:\n",
        "      r.append('NaN')\n",
        "    if r[2] >0:\n",
        "      r.append(float(r[2]/r[0]))\n",
        "    else:\n",
        "      r.append('NaN')\n",
        "\n",
        "    if nicetable: \n",
        "      if ratio:\n",
        "        tablerow=[filename[:-4],r[0],r[1],r[2],r[3],r[4]] \n",
        "      else: \n",
        "        tablerow=[filename[:-4],r[0],r[1],r[2]] \n",
        "      table.append_row(tablerow)\n",
        "    else:\n",
        "      if ratio:\n",
        "        print(\"{},{},{},{},{:.3f},{:.3f}\".format(filename[:-4],r[0],r[1],r[2],r[3],r[4]) )\n",
        "      else: \n",
        "        print(\"{},{},{},{}\".format(filename[:-4],r[0],r[1],r[2]) )\n",
        "    content.append([filename[:-4],r[0],r[1],r[2]])\n",
        "    \n",
        "if nicetable:\n",
        "  print(table)\n",
        "\n",
        "\n",
        "\n"
      ],
      "execution_count": 8,
      "outputs": [
        {
          "output_type": "stream",
          "text": [
            "+------------+-----------+-------+-----------+------------+----------------+\n",
            "|    date    | Confirmed | Death | Recovered | Death/Conf | Recovered/Conf |\n",
            "+------------+-----------+-------+-----------+------------+----------------+\n",
            "| 01-22-2020 |    555    |  17   |    28     |   0.031    |      0.05      |\n",
            "+------------+-----------+-------+-----------+------------+----------------+\n",
            "| 01-23-2020 |    653    |  18   |    30     |   0.028    |     0.046      |\n",
            "+------------+-----------+-------+-----------+------------+----------------+\n",
            "| 01-24-2020 |    941    |  26   |    36     |   0.028    |     0.038      |\n",
            "+------------+-----------+-------+-----------+------------+----------------+\n",
            "| 01-25-2020 |   1438    |  42   |    39     |   0.029    |     0.027      |\n",
            "+------------+-----------+-------+-----------+------------+----------------+\n",
            "| 01-26-2020 |   2118    |  56   |    52     |   0.026    |     0.025      |\n",
            "+------------+-----------+-------+-----------+------------+----------------+\n",
            "| 01-27-2020 |   2927    |  82   |    61     |   0.028    |     0.021      |\n",
            "+------------+-----------+-------+-----------+------------+----------------+\n",
            "| 01-28-2020 |   5578    |  131  |    107    |   0.023    |     0.019      |\n",
            "+------------+-----------+-------+-----------+------------+----------------+\n",
            "| 01-29-2020 |   6165    |  133  |    126    |   0.022    |      0.02      |\n",
            "+------------+-----------+-------+-----------+------------+----------------+\n",
            "| 01-30-2020 |   8235    |  171  |    143    |   0.021    |     0.017      |\n",
            "+------------+-----------+-------+-----------+------------+----------------+\n",
            "| 01-31-2020 |   9925    |  213  |    222    |   0.021    |     0.022      |\n",
            "+------------+-----------+-------+-----------+------------+----------------+\n",
            "| 02-01-2020 |   12038   |  259  |    284    |   0.022    |     0.024      |\n",
            "+------------+-----------+-------+-----------+------------+----------------+\n",
            "| 02-02-2020 |   16787   |  362  |    472    |   0.022    |     0.028      |\n",
            "+------------+-----------+-------+-----------+------------+----------------+\n",
            "| 02-03-2020 |   19881   |  426  |    623    |   0.021    |     0.031      |\n",
            "+------------+-----------+-------+-----------+------------+----------------+\n",
            "| 02-04-2020 |   23892   |  492  |    852    |   0.021    |     0.036      |\n",
            "+------------+-----------+-------+-----------+------------+----------------+\n",
            "| 02-05-2020 |   27636   |  564  |   1124    |    0.02    |     0.041      |\n",
            "+------------+-----------+-------+-----------+------------+----------------+\n",
            "| 02-06-2020 |   30818   |  634  |   1487    |   0.021    |     0.048      |\n",
            "+------------+-----------+-------+-----------+------------+----------------+\n",
            "| 02-07-2020 |   34392   |  719  |   2011    |   0.021    |     0.058      |\n",
            "+------------+-----------+-------+-----------+------------+----------------+\n",
            "| 02-08-2020 |   37121   |  806  |   2616    |   0.022    |      0.07      |\n",
            "+------------+-----------+-------+-----------+------------+----------------+\n",
            "| 02-09-2020 |   40151   |  906  |   3244    |   0.023    |     0.081      |\n",
            "+------------+-----------+-------+-----------+------------+----------------+\n",
            "| 02-10-2020 |   42763   | 1013  |   3946    |   0.024    |     0.092      |\n",
            "+------------+-----------+-------+-----------+------------+----------------+\n",
            "| 02-11-2020 |   44803   | 1113  |   4683    |   0.025    |     0.105      |\n",
            "+------------+-----------+-------+-----------+------------+----------------+\n",
            "| 02-12-2020 |   45222   | 1118  |   5150    |   0.025    |     0.114      |\n",
            "+------------+-----------+-------+-----------+------------+----------------+\n",
            "| 02-13-2020 |   60370   | 1371  |   6295    |   0.023    |     0.104      |\n",
            "+------------+-----------+-------+-----------+------------+----------------+\n",
            "| 02-14-2020 |   66887   | 1523  |   8058    |   0.023    |      0.12      |\n",
            "+------------+-----------+-------+-----------+------------+----------------+\n",
            "| 02-15-2020 |   69032   | 1666  |   9395    |   0.024    |     0.136      |\n",
            "+------------+-----------+-------+-----------+------------+----------------+\n",
            "| 02-16-2020 |   71226   | 1770  |   10865   |   0.025    |     0.153      |\n",
            "+------------+-----------+-------+-----------+------------+----------------+\n",
            "| 02-17-2020 |   73260   | 1868  |   12583   |   0.025    |     0.172      |\n",
            "+------------+-----------+-------+-----------+------------+----------------+\n",
            "| 02-18-2020 |   75138   | 2007  |   14352   |   0.027    |     0.191      |\n",
            "+------------+-----------+-------+-----------+------------+----------------+\n",
            "| 02-19-2020 |   75641   | 2122  |   16121   |   0.028    |     0.213      |\n",
            "+------------+-----------+-------+-----------+------------+----------------+\n",
            "| 02-20-2020 |   76199   | 2247  |   18177   |   0.029    |     0.239      |\n",
            "+------------+-----------+-------+-----------+------------+----------------+\n",
            "| 02-21-2020 |   76843   | 2251  |   18890   |   0.029    |     0.246      |\n",
            "+------------+-----------+-------+-----------+------------+----------------+\n",
            "| 02-22-2020 |   78599   | 2458  |   22886   |   0.031    |     0.291      |\n",
            "+------------+-----------+-------+-----------+------------+----------------+\n",
            "| 02-23-2020 |   78985   | 2469  |   23394   |   0.031    |     0.296      |\n",
            "+------------+-----------+-------+-----------+------------+----------------+\n",
            "| 02-24-2020 |   79570   | 2629  |   25227   |   0.033    |     0.317      |\n",
            "+------------+-----------+-------+-----------+------------+----------------+\n",
            "| 02-25-2020 |   80415   | 2708  |   27905   |   0.034    |     0.347      |\n",
            "+------------+-----------+-------+-----------+------------+----------------+\n",
            "| 02-26-2020 |   81397   | 2770  |   30384   |   0.034    |     0.373      |\n",
            "+------------+-----------+-------+-----------+------------+----------------+\n",
            "| 02-27-2020 |   82756   | 2814  |   33277   |   0.034    |     0.402      |\n",
            "+------------+-----------+-------+-----------+------------+----------------+\n",
            "| 02-28-2020 |   84124   | 2872  |   36711   |   0.034    |     0.436      |\n",
            "+------------+-----------+-------+-----------+------------+----------------+\n",
            "| 02-29-2020 |   86013   | 2941  |   39782   |   0.034    |     0.463      |\n",
            "+------------+-----------+-------+-----------+------------+----------------+\n",
            "| 03-01-2020 |   88371   | 2996  |   42716   |   0.034    |     0.483      |\n",
            "+------------+-----------+-------+-----------+------------+----------------+\n",
            "| 03-02-2020 |   90309   | 3085  |   45602   |   0.034    |     0.505      |\n",
            "+------------+-----------+-------+-----------+------------+----------------+\n",
            "| 03-03-2020 |   92844   | 3160  |   48229   |   0.034    |     0.519      |\n",
            "+------------+-----------+-------+-----------+------------+----------------+\n",
            "| 03-04-2020 |   95124   | 3254  |   51171   |   0.034    |     0.538      |\n",
            "+------------+-----------+-------+-----------+------------+----------------+\n",
            "| 03-05-2020 |   97886   | 3348  |   53797   |   0.034    |      0.55      |\n",
            "+------------+-----------+-------+-----------+------------+----------------+\n",
            "| 03-06-2020 |  101800   | 3460  |   55866   |   0.034    |     0.549      |\n",
            "+------------+-----------+-------+-----------+------------+----------------+\n",
            "| 03-07-2020 |  105836   | 3558  |   58359   |   0.034    |     0.551      |\n",
            "+------------+-----------+-------+-----------+------------+----------------+\n",
            "| 03-08-2020 |  109835   | 3803  |   60695   |   0.035    |     0.553      |\n",
            "+------------+-----------+-------+-----------+------------+----------------+\n",
            "| 03-09-2020 |  113582   | 3996  |   62512   |   0.035    |      0.55      |\n",
            "+------------+-----------+-------+-----------+------------+----------------+\n",
            "| 03-10-2020 |  118582   | 4262  |   64404   |   0.036    |     0.543      |\n",
            "+------------+-----------+-------+-----------+------------+----------------+\n",
            "| 03-11-2020 |  125865   | 4615  |   67003   |   0.037    |     0.532      |\n",
            "+------------+-----------+-------+-----------+------------+----------------+\n",
            "| 03-12-2020 |  128343   | 4720  |   68324   |   0.037    |     0.532      |\n",
            "+------------+-----------+-------+-----------+------------+----------------+\n",
            "| 03-13-2020 |  145193   | 5404  |   70251   |   0.037    |     0.484      |\n",
            "+------------+-----------+-------+-----------+------------+----------------+\n",
            "| 03-14-2020 |  156099   | 5819  |   72624   |   0.037    |     0.465      |\n",
            "+------------+-----------+-------+-----------+------------+----------------+\n",
            "| 03-15-2020 |  167447   | 6440  |   76034   |   0.038    |     0.454      |\n",
            "+------------+-----------+-------+-----------+------------+----------------+\n",
            "| 03-16-2020 |  181546   | 7126  |   78088   |   0.039    |      0.43      |\n",
            "+------------+-----------+-------+-----------+------------+----------------+\n",
            "| 03-17-2020 |  197168   | 7905  |   80840   |    0.04    |      0.41      |\n",
            "+------------+-----------+-------+-----------+------------+----------------+\n",
            "| 03-18-2020 |  214915   | 8733  |   83313   |   0.041    |     0.388      |\n",
            "+------------+-----------+-------+-----------+------------+----------------+\n",
            "| 03-19-2020 |  242713   | 9867  |   84962   |   0.041    |      0.35      |\n",
            "+------------+-----------+-------+-----------+------------+----------------+\n",
            "| 03-20-2020 |  272167   | 11299 |   87403   |   0.042    |     0.321      |\n",
            "+------------+-----------+-------+-----------+------------+----------------+\n",
            "| 03-21-2020 |  304528   | 12973 |   91676   |   0.043    |     0.301      |\n",
            "+------------+-----------+-------+-----------+------------+----------------+\n",
            "| 03-22-2020 |  337020   | 14623 |   97243   |   0.043    |     0.289      |\n",
            "+------------+-----------+-------+-----------+------------+----------------+\n",
            "| 03-23-2020 |  378287   | 16497 |  100958   |   0.044    |     0.267      |\n",
            "+------------+-----------+-------+-----------+------------+----------------+\n",
            "| 03-24-2020 |  417966   | 18615 |  107705   |   0.045    |     0.258      |\n",
            "+------------+-----------+-------+-----------+------------+----------------+\n",
            "| 03-25-2020 |  467594   | 21181 |  113770   |   0.045    |     0.243      |\n",
            "+------------+-----------+-------+-----------+------------+----------------+\n",
            "| 03-26-2020 |  529591   | 23970 |  122150   |   0.045    |     0.231      |\n",
            "+------------+-----------+-------+-----------+------------+----------------+\n",
            "| 03-27-2020 |  593291   | 27198 |  130915   |   0.046    |     0.221      |\n",
            "+------------+-----------+-------+-----------+------------+----------------+\n",
            "| 03-28-2020 |  660706   | 30652 |  139415   |   0.046    |     0.211      |\n",
            "+------------+-----------+-------+-----------+------------+----------------+\n"
          ],
          "name": "stdout"
        }
      ]
    },
    {
      "cell_type": "code",
      "metadata": {
        "id": "FBU6let6Gq9Q",
        "colab_type": "code",
        "outputId": "0d24b49b-8eea-493b-c5c6-49722e301c76",
        "colab": {
          "base_uri": "https://localhost:8080/",
          "height": 779
        }
      },
      "source": [
        "\n",
        "if save:\n",
        "  sys.stdout=orig_stdout\n",
        "  fo.close()\n",
        "\n",
        "\n",
        "if chart:\n",
        " # plt.gca().xaxis_date()\n",
        "  \n",
        "  dummy=np.array(content)\n",
        "  d=dummy[:,0]\n",
        "  days=[dt.datetime.strptime(d,'%m-%d-%Y').date() for d in d]\n",
        "  datefile=dt.datetime.today().strftime('%Y%m%d')\n",
        "    ###### make chart of confirmed\n",
        "  \n",
        "  plt.figure()\n",
        "  plt.ylabel('Confirmed') \n",
        "  confirmed=np.array(dummy[:,1],dtype=int)\n",
        "  if logyscale:\n",
        "    plt.yscale('log')\n",
        "  plt.plot(days,confirmed)\n",
        "\n",
        "  plt.gca().xaxis.set_major_formatter(mdates.DateFormatter('%d-%m-%Y'))\n",
        "  plt.gca().xaxis.set_major_locator( MaxNLocator(nbins = 10) )\n",
        "  plt.gca().yaxis.set_major_locator( MaxNLocator(nbins = 10) )\n",
        "  plt.gcf().autofmt_xdate()\n",
        "  if grid:\n",
        "    plt.grid()\n",
        "  plt.savefig('Confirmed'+datefile)\n",
        "  plt.show()\n",
        "\n",
        "    ###### make chart of Deaths\n",
        "  death=np.array(dummy[:,2],dtype=int)\n",
        "  plt.figure()\n",
        "  plt.ylabel('Death') \n",
        "  if logyscale:\n",
        "    plt.yscale('log')\n",
        "  plt.gca().xaxis.set_major_formatter(mdates.DateFormatter('%d-%m-%Y'))\n",
        "  plt.plot(days,death)\n",
        "  plt.gca().xaxis.set_major_locator( MaxNLocator(nbins = 10) )\n",
        "  plt.gca().yaxis.set_major_locator( MaxNLocator(nbins = 10) )\n",
        "  plt.gcf().autofmt_xdate()\n",
        "  if grid:\n",
        "    plt.grid()\n",
        "  plt.savefig('Death'+datefile)\n",
        "#        plt.show()\n",
        "\n",
        "\n",
        "    ###### make chart of Recoverred\n",
        "  recovered=np.array(dummy[:,3],dtype=int)\n",
        "  plt.figure()\n",
        "  plt.gca().xaxis.set_major_formatter(mdates.DateFormatter('%d-%m-%Y'))\n",
        "  plt.ylabel('Recovered') \n",
        "  if logyscale:\n",
        "    plt.yscale('log')\n",
        "  confirmed=dummy[:,1]\n",
        "  plt.plot(days,recovered)\n",
        "  plt.gca().xaxis.set_major_locator( MaxNLocator(nbins = 10) )\n",
        "  plt.gca().yaxis.set_major_locator( MaxNLocator(nbins = 10) )\n",
        "  if grid:\n",
        "    plt.grid()\n",
        "  plt.gcf().autofmt_xdate()\n",
        "  plt.savefig('Recovered'+datefile)\n",
        "#        plt.show()\n"
      ],
      "execution_count": 9,
      "outputs": [
        {
          "output_type": "display_data",
          "data": {
            "image/png": "[encoded data removed]",
            "text/plain": [
              "<Figure size 432x288 with 1 Axes>"
            ]
          },
          "metadata": {
            "tags": []
          }
        },
        {
          "output_type": "display_data",
          "data": {
            "image/png": "[encoded data removed]",
            "text/plain": [
              "<Figure size 432x288 with 1 Axes>"
            ]
          },
          "metadata": {
            "tags": []
          }
        },
        {
          "output_type": "display_data",
          "data": {
            "image/png": "[encoded data removed]",
            "text/plain": [
              "<Figure size 432x288 with 1 Axes>"
            ]
          },
          "metadata": {
            "tags": []
          }
        }
      ]
    }
  ]
}