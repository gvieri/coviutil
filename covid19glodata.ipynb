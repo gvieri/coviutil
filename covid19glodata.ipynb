{
  "nbformat": 4,
  "nbformat_minor": 0,
  "metadata": {
    "colab": {
      "name": "covid19glodata.ipynb",
      "provenance": []
    },
    "kernelspec": {
      "name": "python3",
      "display_name": "Python 3"
    }
  },
  "cells": [
    {
      "cell_type": "code",
      "metadata": {
        "id": "SsHLPYMtC-x3",
        "colab_type": "code",
        "colab": {}
      },
      "source": [
        ""
      ],
      "execution_count": 0,
      "outputs": []
    },
    {
      "cell_type": "markdown",
      "metadata": {
        "id": "mrmxG_JeDUIZ",
        "colab_type": "text"
      },
      "source": [
        "# author Giovambattista Vieri\n",
        "# (c) 2020 all rights reserverd\n",
        "# license: GPL V 2.0 \n",
        "# \n"
      ]
    },
    {
      "cell_type": "code",
      "metadata": {
        "id": "T8dNMIZ2DXvX",
        "colab_type": "code",
        "colab": {}
      },
      "source": [
        "!pip install numpy==1.18.1\n",
        "!pip install beautifultable==0.8.0\n",
        "!pip install matplotlib==3.1.3\n",
        "!pip install GitPython==3.1.0\n"
      ],
      "execution_count": 0,
      "outputs": []
    },
    {
      "cell_type": "code",
      "metadata": {
        "id": "vwrMVgfeDqtT",
        "colab_type": "code",
        "colab": {}
      },
      "source": [
        "from git import Repo\n",
        "from os import listdir \n",
        "import csv\n",
        "import os\n",
        "import sys\n",
        "import shutil\n",
        "import argparse \n",
        "import numpy as np\n",
        "from beautifultable import BeautifulTable\n",
        "\n",
        "import matplotlib.pyplot as plt\n",
        "import matplotlib.dates as mdates\n",
        "import numpy as np\n",
        "import datetime as dt\n",
        "from matplotlib.ticker import MaxNLocator\n",
        "import pprint\n",
        "\n"
      ],
      "execution_count": 0,
      "outputs": []
    },
    {
      "cell_type": "code",
      "metadata": {
        "id": "pNdGj9OED6Gy",
        "colab_type": "code",
        "colab": {}
      },
      "source": [
        "destdir=\"covid19\"\n",
        "searchdir=destdir+\"/csse_covid_19_data/csse_covid_19_daily_reports\"\n"
      ],
      "execution_count": 0,
      "outputs": []
    },
    {
      "cell_type": "code",
      "metadata": {
        "id": "kun8donKEEQr",
        "colab_type": "code",
        "colab": {}
      },
      "source": [
        "def processafile(filename):\n",
        "    completefile=searchdir+\"/\"+filename\n",
        "    confirmed=deaths=recovered=0\n",
        "    with open(completefile,'r') as fi:\n",
        "        reader=csv.reader(fi)\n",
        "        next(reader)\n",
        "        for row in reader:\n",
        "            if len(row[3])<1: row[3]=0\n",
        "            if len(row[4])<1: row[4]=0\n",
        "            if len(row[5])<1: row[5]=0\n",
        "            confirmed +=int(row[3])\n",
        "            deaths    +=int(row[4])\n",
        "            recovered +=int(row[5])\n",
        "    return(confirmed,deaths,recovered)\n"
      ],
      "execution_count": 0,
      "outputs": []
    },
    {
      "cell_type": "code",
      "metadata": {
        "id": "BZWRFk2iELa0",
        "colab_type": "code",
        "colab": {}
      },
      "source": [
        "ratio     =True\n",
        "save      =False\n",
        "chart     =True\n",
        "grid      =True\n",
        "nicetable =True\n"
      ],
      "execution_count": 0,
      "outputs": []
    },
    {
      "cell_type": "code",
      "metadata": {
        "id": "HuwdGSHREhWM",
        "colab_type": "code",
        "colab": {}
      },
      "source": [
        "if os.path.isdir(destdir):\n",
        "  shutil.rmtree(destdir)\n",
        "\n",
        "os.mkdir(destdir)\n",
        "\n",
        "Repo.clone_from(\"https://github.com/CSSEGISandData/COVID-19\",destdir)\n",
        "\n",
        "ext='csv' \n",
        "\n",
        "filenames=listdir(searchdir)\n",
        "filenames.sort()\n",
        "orig_stdout=sys.stdout\n",
        "\n",
        "if nicetable: \n",
        "  table=BeautifulTable()\n",
        "  if ratio:\n",
        "    header=[\"date\",\"Confirmed\",\"Death\",\"Recovered\",\"Death/Conf\", \"Recovered/Conf\"]\n",
        "  else:\n",
        "    header=[\"date\",\"Confirmed\",\"Death\",\"Recovered\"]\n",
        "  table.column_headers=header\n",
        "  if save:\n",
        "    fo=open('out.csv','w')\n",
        "    sys.stdout=fo\n"
      ],
      "execution_count": 0,
      "outputs": []
    },
    {
      "cell_type": "code",
      "metadata": {
        "id": "GH2MMvJKFfyL",
        "colab_type": "code",
        "colab": {}
      },
      "source": [
        "content=[]\n",
        "for filename in filenames:\n",
        "  if filename.endswith(ext):\n",
        "    r=list(processafile(filename) )\n",
        "    tablerow=[]\n",
        "    if r[1] >0:\n",
        "      r.append(float(r[1]/r[0]))\n",
        "    else:\n",
        "      r.append('NaN')\n",
        "    if r[2] >0:\n",
        "      r.append(float(r[2]/r[0]))\n",
        "    else:\n",
        "      r.append('NaN')\n",
        "\n",
        "    if nicetable: \n",
        "      if ratio:\n",
        "        tablerow=[filename[:-4],r[0],r[1],r[2],r[3],r[4]] \n",
        "      else: \n",
        "        tablerow=[filename[:-4],r[0],r[1],r[2]] \n",
        "      table.append_row(tablerow)\n",
        "    else:\n",
        "      if ratio:\n",
        "        print(\"{},{},{},{},{:.3f},{:.3f}\".format(filename[:-4],r[0],r[1],r[2],r[3],r[4]) )\n",
        "      else: \n",
        "        print(\"{},{},{},{}\".format(filename[:-4],r[0],r[1],r[2]) )\n",
        "      content.append([filename[:-4],r[0],r[1],r[2]])\n",
        "    \n",
        "if nicetable:\n",
        "  print(table)\n",
        "\n",
        "\n",
        "\n"
      ],
      "execution_count": 0,
      "outputs": []
    },
    {
      "cell_type": "code",
      "metadata": {
        "id": "FBU6let6Gq9Q",
        "colab_type": "code",
        "colab": {}
      },
      "source": [
        "print (save)\n",
        "if save:\n",
        "  sys.stdout=orig_stdout\n",
        "  fo.close()\n",
        "\n",
        "\n",
        "if chart:\n",
        "  plt.gca().xaxis.set_major_formatter(mdates.DateFormatter('%d-%m-%Y'))\n",
        "  plt.gca().xaxis.set_major_locator( MaxNLocator(nbins = 10) )\n",
        "  plt.gca().yaxis.set_major_locator( MaxNLocator(nbins = 10) )\n",
        "  dummy1=np.array(content)\n",
        "  \n",
        "\n",
        "  d=dummy1[:,0]\n",
        "  days=[dt.datetime.strptime(d,'%m-%d-%Y').date() for d in d]\n",
        "  datefile=dt.datetime.today().strftime('%Y%m%d')\n",
        "    ###### make chart of confirmed\n",
        "  plt.ylabel('Confirmed') \n",
        "  plt.figure()\n",
        "  confirmed=np.array(dummy[:,1],dtype=int)\n",
        "  plt.plot(days,confirmed)\n",
        "  plt.gca().xaxis.set_major_locator( MaxNLocator(nbins = 10) )\n",
        "  plt.gca().yaxis.set_major_locator( MaxNLocator(nbins = 10) )\n",
        "  plt.gcf().autofmt_xdate()\n",
        "  if grid:\n",
        "    plt.grid()\n",
        "  plt.savefig('Confirmed'+datefile)\n",
        "  plt.show()\n",
        "\n",
        "    ###### make chart of Deaths\n",
        "  death=np.array(dummy[:,2],dtype=int)\n",
        "  plt.figure()\n",
        "  plt.ylabel('Death') \n",
        "  plt.plot(days,death)\n",
        "  plt.gca().xaxis.set_major_locator( MaxNLocator(nbins = 10) )\n",
        "  plt.gca().yaxis.set_major_locator( MaxNLocator(nbins = 10) )\n",
        "  plt.gcf().autofmt_xdate()\n",
        "  if grid:\n",
        "    plt.grid()\n",
        "  plt.savefig('Death'+datefile)\n",
        "#        plt.show()\n",
        "\n",
        "\n",
        "    ###### make chart of Recoverred\n",
        "  recovered=np.array(dummy[:,3],dtype=int)\n",
        "  plt.figure()\n",
        "  plt.ylabel('Recovered') \n",
        "  confirmed=dummy[:,1]\n",
        "  plt.plot(days,recovered)\n",
        "  plt.gca().xaxis.set_major_locator( MaxNLocator(nbins = 10) )\n",
        "  plt.gca().yaxis.set_major_locator( MaxNLocator(nbins = 10) )\n",
        "  if grid:\n",
        "    plt.grid()\n",
        "  plt.gcf().autofmt_xdate()\n",
        "  plt.savefig('Recovered'+datefile)\n",
        "#        plt.show()\n"
      ],
      "execution_count": 0,
      "outputs": []
    }
  ]
}